{
 "cells": [
  {
   "cell_type": "code",
   "execution_count": 2,
   "id": "7295db80-2472-4ea4-822d-c5f642967c9d",
   "metadata": {},
   "outputs": [
    {
     "name": "stdout",
     "output_type": "stream",
     "text": [
      "Position of 4 is: 3\n"
     ]
    }
   ],
   "source": [
    "class Solution:\n",
    "    def binarysearch(self, arr, k):\n",
    "        # Initialize low, high pointers for binary search\n",
    "        low = 0\n",
    "        high = len(arr) - 1\n",
    "        result = -1  # To store the index of k, -1 means not found\n",
    "\n",
    "        while low <= high:\n",
    "            mid = low + (high - low) // 2  # Calculate middle index\n",
    "\n",
    "            if arr[mid] == k:\n",
    "                # If found, store the result (mid), and continue searching left side\n",
    "                result = mid\n",
    "                high = mid - 1  # Search in the left half to find the smallest index\n",
    "            elif arr[mid] < k:\n",
    "                low = mid + 1  # Search the right half\n",
    "            else:\n",
    "                high = mid - 1  # Search the left half\n",
    "\n",
    "        return result  # Return the smallest index of k or -1 if not found\n",
    "\n",
    "# Example usage:\n",
    "solution = Solution()\n",
    "\n",
    "# Test case 1\n",
    "arr1 = [1, 2, 3, 4, 5]\n",
    "k1 = 4\n",
    "print(\"Position of\", k1, \"is:\", solution.binarysearch(arr1, k1))  \n"
   ]
  },
  {
   "cell_type": "code",
   "execution_count": null,
   "id": "e5ac746c-40ac-432a-996c-c20378a01ec8",
   "metadata": {},
   "outputs": [],
   "source": []
  }
 ],
 "metadata": {
  "kernelspec": {
   "display_name": "Python 3 (ipykernel)",
   "language": "python",
   "name": "python3"
  },
  "language_info": {
   "codemirror_mode": {
    "name": "ipython",
    "version": 3
   },
   "file_extension": ".py",
   "mimetype": "text/x-python",
   "name": "python",
   "nbconvert_exporter": "python",
   "pygments_lexer": "ipython3",
   "version": "3.12.7"
  }
 },
 "nbformat": 4,
 "nbformat_minor": 5
}
