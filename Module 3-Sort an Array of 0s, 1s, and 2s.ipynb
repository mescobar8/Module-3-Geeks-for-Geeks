{
 "cells": [
  {
   "cell_type": "code",
   "execution_count": 1,
   "id": "9acf3f7e-ae64-491d-b654-7e3b08cf617f",
   "metadata": {},
   "outputs": [
    {
     "name": "stdout",
     "output_type": "stream",
     "text": [
      "Sorted array: [0, 0, 1, 1, 2, 2]\n"
     ]
    }
   ],
   "source": [
    "class Solution:\n",
    "    # Function to sort an array of 0s, 1s, and 2s\n",
    "    def sort012(self, arr):\n",
    "        # code here\n",
    "        low = 0        # Pointer for the 0's section\n",
    "        mid = 0        # Pointer for the 1's section\n",
    "        high = len(arr) - 1  # Pointer for the 2's section\n",
    "        \n",
    "        # Traverse the array with the mid pointer\n",
    "        while mid <= high:\n",
    "            if arr[mid] == 0:\n",
    "                # Swap arr[low] and arr[mid], increment low and mid\n",
    "                arr[low], arr[mid] = arr[mid], arr[low]\n",
    "                low += 1\n",
    "                mid += 1\n",
    "            elif arr[mid] == 1:\n",
    "                # Just move mid forward\n",
    "                mid += 1\n",
    "            else:  # arr[mid] == 2\n",
    "                # Swap arr[mid] and arr[high], decrement high\n",
    "                arr[high], arr[mid] = arr[mid], arr[high]\n",
    "                high -= 1\n",
    "            \n",
    "        return arr\n",
    "\n",
    "# Example usage:\n",
    "solution = Solution()\n",
    "\n",
    "# Test 1\n",
    "arr1 = [0, 1, 2, 0, 1, 2]\n",
    "print(\"Sorted array:\", solution.sort012(arr1))"
   ]
  },
  {
   "cell_type": "code",
   "execution_count": null,
   "id": "3bca9d94-87b0-4075-b6c8-5b350d01e4d3",
   "metadata": {},
   "outputs": [],
   "source": []
  }
 ],
 "metadata": {
  "kernelspec": {
   "display_name": "Python 3 (ipykernel)",
   "language": "python",
   "name": "python3"
  },
  "language_info": {
   "codemirror_mode": {
    "name": "ipython",
    "version": 3
   },
   "file_extension": ".py",
   "mimetype": "text/x-python",
   "name": "python",
   "nbconvert_exporter": "python",
   "pygments_lexer": "ipython3",
   "version": "3.12.7"
  }
 },
 "nbformat": 4,
 "nbformat_minor": 5
}
